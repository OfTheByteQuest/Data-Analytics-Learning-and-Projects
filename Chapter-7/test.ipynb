{
 "cells": [
  {
   "cell_type": "code",
   "execution_count": 6,
   "id": "f803f940",
   "metadata": {},
   "outputs": [
    {
     "name": "stdout",
     "output_type": "stream",
     "text": [
      "Help on function corrwith in module pandas.core.frame:\n",
      "\n",
      "corrwith(\n",
      "    self,\n",
      "    other: 'DataFrame | Series',\n",
      "    axis: 'Axis' = 0,\n",
      "    drop: 'bool' = False,\n",
      "    method: 'CorrelationMethod' = 'pearson',\n",
      "    numeric_only: 'bool' = False\n",
      ") -> 'Series'\n",
      "    Compute pairwise correlation.\n",
      "\n",
      "    Pairwise correlation is computed between rows or columns of\n",
      "    DataFrame with rows or columns of Series or DataFrame. DataFrames\n",
      "    are first aligned along both axes before computing the\n",
      "    correlations.\n",
      "\n",
      "    Parameters\n",
      "    ----------\n",
      "    other : DataFrame, Series\n",
      "        Object with which to compute correlations.\n",
      "    axis : {0 or 'index', 1 or 'columns'}, default 0\n",
      "        The axis to use. 0 or 'index' to compute row-wise, 1 or 'columns' for\n",
      "        column-wise.\n",
      "    drop : bool, default False\n",
      "        Drop missing indices from result.\n",
      "    method : {'pearson', 'kendall', 'spearman'} or callable\n",
      "        Method of correlation:\n",
      "\n",
      "        * pearson : standard correlation coefficient\n",
      "        * kendall : Kendall Tau correlation coefficient\n",
      "        * spearman : Spearman rank correlation\n",
      "        * callable: callable with input two 1d ndarrays\n",
      "            and returning a float.\n",
      "\n",
      "    numeric_only : bool, default False\n",
      "        Include only `float`, `int` or `boolean` data.\n",
      "\n",
      "        .. versionadded:: 1.5.0\n",
      "\n",
      "        .. versionchanged:: 2.0.0\n",
      "            The default value of ``numeric_only`` is now ``False``.\n",
      "\n",
      "    Returns\n",
      "    -------\n",
      "    Series\n",
      "        Pairwise correlations.\n",
      "\n",
      "    See Also\n",
      "    --------\n",
      "    DataFrame.corr : Compute pairwise correlation of columns.\n",
      "\n",
      "    Examples\n",
      "    --------\n",
      "    >>> index = [\"a\", \"b\", \"c\", \"d\", \"e\"]\n",
      "    >>> columns = [\"one\", \"two\", \"three\", \"four\"]\n",
      "    >>> df1 = pd.DataFrame(np.arange(20).reshape(5, 4), index=index, columns=columns)\n",
      "    >>> df2 = pd.DataFrame(np.arange(16).reshape(4, 4), index=index[:4], columns=columns)\n",
      "    >>> df1.corrwith(df2)\n",
      "    one      1.0\n",
      "    two      1.0\n",
      "    three    1.0\n",
      "    four     1.0\n",
      "    dtype: float64\n",
      "\n",
      "    >>> df2.corrwith(df1, axis=1)\n",
      "    a    1.0\n",
      "    b    1.0\n",
      "    c    1.0\n",
      "    d    1.0\n",
      "    e    NaN\n",
      "    dtype: float64\n",
      "\n"
     ]
    }
   ],
   "source": [
    "import pandas as pd\n",
    "\n",
    "help(pd.DataFrame.corrwith)"
   ]
  },
  {
   "cell_type": "code",
   "execution_count": null,
   "id": "71e7a59c",
   "metadata": {},
   "outputs": [],
   "source": []
  }
 ],
 "metadata": {
  "kernelspec": {
   "display_name": ".venv",
   "language": "python",
   "name": "python3"
  },
  "language_info": {
   "codemirror_mode": {
    "name": "ipython",
    "version": 3
   },
   "file_extension": ".py",
   "mimetype": "text/x-python",
   "name": "python",
   "nbconvert_exporter": "python",
   "pygments_lexer": "ipython3",
   "version": "3.13.3"
  }
 },
 "nbformat": 4,
 "nbformat_minor": 5
}
